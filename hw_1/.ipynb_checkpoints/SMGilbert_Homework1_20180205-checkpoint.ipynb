{
 "cells": [
  {
   "cell_type": "markdown",
   "metadata": {},
   "source": [
    "# Homework 1: Numpy, Scipy, Pandas\n",
    "\n",
    "### Due Monday Feb 5, 2018 @ 2pm\n"
   ]
  },
  {
   "cell_type": "markdown",
   "metadata": {},
   "source": [
    "## #0: Get set up with your environment to work on and submit homework\n",
    "\n",
    "a. Create a new homework repository at github\n",
    "\n",
    "<img src=\"data/screenshot_1.png\">\n",
    "\n",
    "Name your repo something sensible (e.g., python-ay250-homeworks). Given your Berkeley affiliation you should be able to get private repos if you'd like.\n",
    "\n",
    "<img src=\"data/screenshot_2.png\">\n",
    "\n",
    "\n",
    "b. Clone this repo locally and make a directory for this week's homework:\n",
    "\n",
    "```bash\n",
    "cd /class/directories ## this will be different on your machine...whereever you want to keep your work.\n",
    "\n",
    "# change <username> to your github username:\n",
    "git clone https://github.com/<username>/python-ay250-homework.git\n",
    "cd python-ay250-homework\n",
    "mkdir hw_1\n",
    "echo \"hw_1 README\" >> hw_1/README.md\n",
    "git add hw_1/README.md\n",
    "git commit hw_1/README.md -m \"added hw_1 directory\"\n",
    "git push\n",
    "```\n",
    "\n",
    "c. Copy this notebook into your `hw_1` folder from a local version of the python-seminar repo\n",
    "\n",
    "```bash\n",
    "cd /class/directories\n",
    "git clone https://github.com/profjsb/python-seminar.git \n",
    "cd python-seminar\n",
    "git pull\n",
    "cp -r Homeworks/hw_1/* /class/directories/python-ay250-homework/hw_1/\n",
    "```\n",
    "\n",
    "d. Get working! Be sure to check in your work as often as you'd like\n",
    "\n",
    "```bash\n",
    "cd /class/directories/python-ay250-homework\n",
    "git add hw_1/<whatever>\n",
    "git commit <whatever> -m \"this is a check in\"\n",
    "```\n",
    "\n",
    "e. To submit your work, go to this form to register your homework Repo URL (https://goo.gl/forms/4DTPxonYBAxmfxJG2). If you've made your repo private, you'll need to add us as collaborators to the repo.  Our Github handles are `@profjsb` and `@chelseaharris`."
   ]
  },
  {
   "cell_type": "markdown",
   "metadata": {},
   "source": [
    "## #1:  Super-resolution imaging \n",
    "\n",
    "Obtaining several snapshots of the same scene, from microscopes to telescopes, is useful for the postprocessing increase of signal to noise: by summing up imaging data we can effectively beat down the noise. Interestingly, if we image the same scene from different vistas we can also improve the clarity of the combined image. Being able to discern features in a scene from this combination effort is sometimes called super-resolution imaging.\n",
    "\n",
    "Here, we'll combine about 4 seconds of a shaky video to reveal the statement on a license plate that is not discernable in any one frame.\n",
    "\n",
    "<img src=\"Data/im2-1.png\">\n",
    "\n",
    "A tarball of the data is at: https://drive.google.com/open?id=0B4vIeCR-xYNnbXFJTTVlVnpUZkk\n",
    "\n",
    "```bash\n",
    "tar -xvzf homework1_data.tgz  # do NOT check this files into git...\n",
    "```"
   ]
  },
  {
   "cell_type": "markdown",
   "metadata": {},
   "source": [
    "**Problem 1** Read in each image into a `numpy` array. Resize each frame to be 3 times larger in each axis (ie. 9 times larger images). Using `scipy.signal.fftconvolve` find the offsets of each frame with respect to the first frame. Report those offsets to 2 decimal places. \n",
    "\n",
    "   - Hint1: you'll need to figure out how to resize a numpy array\n",
    "   - Hint2: you'll want to reverse the second image when doing the convolution: `scipy.signal.fftconvolve(im1, im2[::-1, ::-1])`\n",
    "   - Hint3: you'll need to figure out how to identify the peak of the fft convolution to find the offsets between images"
   ]
  },
  {
   "cell_type": "code",
   "execution_count": null,
   "metadata": {
    "collapsed": true
   },
   "outputs": [],
   "source": [
    "import numpy as np\n",
    "import matplotlib.pyplot as plt\n",
    "import matplotlib.image as mpimg\n",
    "from scipy.misc import imread, imresize\n",
    "from scipy import signal\n",
    "from scipy.ndimage.interpolation import shift\n",
    "\n",
    "def Read_Image(file1, file2): \n",
    "    # I only load two images at a time because memory\n",
    "    #First I read the images\n",
    "    image1 = mpimg.imread(file1)\n",
    "    image2 = mpimg.imread(file2)\n",
    "    \n",
    "    return image1, image2"
   ]
  },
  {
   "cell_type": "code",
   "execution_count": null,
   "metadata": {
    "collapsed": true
   },
   "outputs": [],
   "source": [
    "def Mod_Image(image1, image2):    \n",
    "    #Then I resize the images\n",
    "    \n",
    "    arr1 = imresize(image1, (864, 864))\n",
    "    arr2 = imresize(image2, (864, 864))\n",
    "    \n",
    "    #crop\n",
    "    arr1 = arr1[200:700,:]\n",
    "    arr2 = arr2[200:700,:]\n",
    "    \n",
    "    #convert to grayscale\n",
    "    arrGray1 = np.sum(arr1.astype('float'), axis=2)\n",
    "    arrGray2 = np.sum(arr2.astype('float'), axis=2)\n",
    "    \n",
    "    #flatten\n",
    "    arrGray1 -= np.mean(arrGray1)\n",
    "    arrGray2 -= np.mean(arrGray2)\n",
    "    \n",
    "    #Finally I return the images\n",
    "    \n",
    "    return arrGray1, arrGray2"
   ]
  },
  {
   "cell_type": "code",
   "execution_count": null,
   "metadata": {
    "collapsed": true
   },
   "outputs": [],
   "source": [
    "def Find_Offset(array1, array2):\n",
    "    \n",
    "    off = signal.fftconvolve(array1, array2[::-1, ::-1], mode='same')\n",
    "    \n",
    "    return np.array((250,432)) - np.unravel_index(np.argmax(off), off.shape)"
   ]
  },
  {
   "cell_type": "code",
   "execution_count": null,
   "metadata": {
    "collapsed": true
   },
   "outputs": [],
   "source": [
    "for i in range(99):\n",
    "    image1, image2 = Read_Image('data/data/im2-0.png','data/data/im2-'+str(i)+'.png')\n",
    "    image1, image2 = Mod_Image(image1, image2)\n",
    "    off= Find_Offset(image1, image2)\n",
    "    a= off\n",
    "    print(a)\n",
    "   # plt.imshow(off)\n",
    "   # plt.show()"
   ]
  },
  {
   "cell_type": "markdown",
   "metadata": {},
   "source": [
    "**Problem 2** Shift each image to register the frames to the original (expanded in size) frame. You should, in general, be shifting by subpixel offsets. You might want to look at `scipy.ndimage.interpolation.shift`"
   ]
  },
  {
   "cell_type": "code",
   "execution_count": null,
   "metadata": {
    "collapsed": true
   },
   "outputs": [],
   "source": [
    "def Shift_Image(image, offset):\n",
    "    \n",
    "    shifted = shift( image, offset, cval=0)\n",
    "    \n",
    "    return shifted"
   ]
  },
  {
   "cell_type": "code",
   "execution_count": null,
   "metadata": {
    "collapsed": true
   },
   "outputs": [],
   "source": [
    "for i in range(99):\n",
    "    image1, image2 = Read_Image('data/data/im2-1.png','data/data/im2-'+str(i)+'.png')\n",
    "    image1, image2 = Mod_Image(image1, image2)\n",
    "    off= Find_Offset(image1, image2)\n",
    "    a = Shift_Image(image2, -off)\n",
    "    plt.imshow(a)\n",
    "    plt.show()"
   ]
  },
  {
   "cell_type": "markdown",
   "metadata": {},
   "source": [
    "**Problem 3** Combine all the registered images to form a super-resolution image. What does the license plate read?"
   ]
  },
  {
   "cell_type": "code",
   "execution_count": null,
   "metadata": {
    "collapsed": true
   },
   "outputs": [],
   "source": [
    "a=0\n",
    "for i in range(99):\n",
    "    image1, image2 = Read_Image('data/data/im2-1.png','data/data/im2-'+str(i)+'.png')\n",
    "    image1, image2 = Mod_Image(image1, image2)\n",
    "    off= Find_Offset(image1, image2)\n",
    "    a = a + Shift_Image(image2, -off)\n",
    "    \n",
    "plt.imshow(a)\n",
    "plt.show()"
   ]
  },
  {
   "cell_type": "markdown",
   "metadata": {},
   "source": [
    "# #2: An elementary introduction to spectral audio compression\n",
    "\n",
    "In this problem, we'll explore the very basics of audio compression in the spectral domain using numpy and scipy. We'll do a bit of visualization with matplotlib, but since that is covered later in the course, we'll provide those functions for you.\n",
    "\n",
    "Audio compression is a large and complex topic, and the design of a format for compressed audio such as the popular [MP3](http://en.wikipedia.org/wiki/MP3) is too complex to cover in detail here. However, we will introduce the basic tools that most such compression formats use, namely:\n",
    "\n",
    "1. Converting the input signal to the frequency domain by taking a Fast Fourier Transform (FFT).\n",
    "\n",
    "2. Dropping information in the frequency domain, resulting in a smaller amount of data.\n",
    "\n",
    "3. Reconstructing back the signal in the time domain from this smaller representation of the signal.\n",
    "\n",
    "Steps 1 and 2 above are the 'encoding' part of signal compression, and step 3 is the 'decoding' part. For this reason, the tools that perform these steps are typically referred to as signal 'codecs', short for encoders/decoders.\n",
    "\n",
    "Note that here we say 'signal': while MP3 is an audio format, the same ideas apply to the compression of digital images with formats such as JPEG and video.  Virtually all multimedia technologies we use today, from audio players to cell phones, digital cameras and YouTubeVideo, are based on sophisticated extensions and applications of these simple ideas."
   ]
  },
  {
   "cell_type": "markdown",
   "metadata": {},
   "source": [
    "Let's first load the plotting tools and importing some tools we'll need later:"
   ]
  },
  {
   "cell_type": "code",
   "execution_count": null,
   "metadata": {},
   "outputs": [],
   "source": [
    "%pylab inline\n",
    "import numpy as np\n",
    "import matplotlib.pyplot as plt\n",
    "\n",
    "# we'll need some path manipulations later on\n",
    "import os"
   ]
  },
  {
   "cell_type": "markdown",
   "metadata": {},
   "source": [
    "We define a simple utility function to listen to audio files right in the browser:"
   ]
  },
  {
   "cell_type": "code",
   "execution_count": null,
   "metadata": {
    "collapsed": true
   },
   "outputs": [],
   "source": [
    "def Audio(fname):\n",
    "    \"\"\"Provide a player widget for an audio file.\n",
    "    \n",
    "    Parameters\n",
    "    ==========\n",
    "    fname : string\n",
    "      Filename to be played.\n",
    "      \n",
    "    Warning\n",
    "    =======\n",
    "    \n",
    "    Browsers cache audio very aggressively. If you change an\n",
    "    audio file on disk and are trying to listen to the  new version, you \n",
    "    may want to \n",
    "    \"\"\"\n",
    "    from IPython.display import HTML, display\n",
    "    \n",
    "    # Find out file extension and deduce MIME type for audio format\n",
    "    ext = os.path.splitext(fname)[1].replace('.', '').lower()\n",
    "    mimetype = 'audio/' + ('mpeg' if ext == 'mp3' else ext)\n",
    "    \n",
    "    tpl = \"\"\"<p>{fname}:</p>\n",
    "<audio controls>\n",
    "    <source src=\"files/{fname}\" type=\"{mimetype}\">\n",
    "\n",
    "Your browser does not support the Audio element; you can play \n",
    "<a href=\"files/{fname}\">this file</a> manually.\n",
    "</audio>\n",
    "\"\"\"\n",
    "    display(HTML(tpl.format(**locals())))"
   ]
  },
  {
   "cell_type": "markdown",
   "metadata": {},
   "source": [
    "We also define a convenience wrapper around `plt.specgram`, [matplotlib's spectrogram function](http://matplotlib.org/api/mlab_api.html#matplotlib.mlab.specgram), with a colorbar and control over the color limits displayed. This will make it easier to compare across different signals with the same colors for all inputs."
   ]
  },
  {
   "cell_type": "code",
   "execution_count": null,
   "metadata": {
    "collapsed": true
   },
   "outputs": [],
   "source": [
    "def specgram_cbar(x, title=None, clim=(0, 80) ):\n",
    "    \"\"\"Plot spectrogram with a colorbar and range normalization.\n",
    "    \n",
    "    Call matplotlib's specgram function, with a custom figure size, \n",
    "    automatic colobar, title and custom color limits to ease \n",
    "    comparison across multiple figures.\n",
    "    \n",
    "    Parameters\n",
    "    ==========\n",
    "    x : array\n",
    "      One-dimensional array whose spectrogram should be plotted.\n",
    "      \n",
    "    title : string\n",
    "      Optional title for the figure.\n",
    "      \n",
    "    clim : 2-tuple\n",
    "      Range for the color limits plotted in the spectrogram.\n",
    "    \"\"\"\n",
    "    f = plt.figure(figsize=(10,3))\n",
    "    plt.specgram(x, Fs=2)\n",
    "    plt.colorbar()\n",
    "    plt.clim(*clim)\n",
    "    if title is not None:\n",
    "        plt.title(title)\n",
    "    plt.show()"
   ]
  },
  {
   "cell_type": "markdown",
   "metadata": {},
   "source": [
    "**Problem 1**: Use the `Audio` function above to listen to the signal we will be experimenting with, a simple voice recording stored in the file `Homeworks/hw1/data/voice.wav`.\n",
    "\n",
    "Note: if your browser doesn't support audio, you may try a different browser.   We've tested current versions of Chrome and Firefox, and it works OK with both."
   ]
  },
  {
   "cell_type": "code",
   "execution_count": null,
   "metadata": {},
   "outputs": [],
   "source": [
    "Audio('data/voice.wav')"
   ]
  },
  {
   "cell_type": "markdown",
   "metadata": {},
   "source": [
    "**Problem 2**: Write a function to compress a 1-d signal by dropping a fraction of its spectrum. \n",
    "\n",
    "You can drop the smallest components by setting their values to zero.\n",
    "\n",
    "*Hints*: \n",
    "\n",
    "- look at the `np.fft` module, keeping in mind that your input signal is real.\n",
    "- look at the `argsort` method of numpy arrays."
   ]
  },
  {
   "cell_type": "code",
   "execution_count": null,
   "metadata": {
    "collapsed": true
   },
   "outputs": [],
   "source": [
    "def compress_signal(x, fraction):\n",
    "    \"\"\"Compress an input signal by dropping a fraction of its spectrum.\n",
    "    \n",
    "    Parameters\n",
    "    ==========\n",
    "    x : array\n",
    "      1-d real array to be compressed\n",
    "      \n",
    "    fraction : float\n",
    "      A number in the [0,1] range indicating which fraction of the spectrum\n",
    "      of x should be zeroed out (1 means zero out the entire signal).\n",
    "      \n",
    "    Returns\n",
    "    =======\n",
    "    x_approx : array\n",
    "      1-d real array reconstructed after having compressed the input.\n",
    "    \"\"\"\n",
    "    #First pick out spectrum via fft    \n",
    "    Spec = np.fft.fft(x)\n",
    "    \n",
    "    #Then I pick out the peak frequencies\n",
    "    ValSortSpec = np.argsort(Spec)[:int(fraction*len(Spec))]\n",
    "    \n",
    "    #And I set the lower values to zero\n",
    "    Compressed_Spec = Spec.copy()\n",
    "    Compressed_Spec[ValSortSpec] = 0\n",
    "    \n",
    "    #Inverse Fourier Transform to get x_approx\n",
    "    x_approx = np.fft.ifft(Compressed_Spec)\n",
    "    \n",
    "    return x_approx"
   ]
  },
  {
   "cell_type": "code",
   "execution_count": null,
   "metadata": {
    "collapsed": true
   },
   "outputs": [],
   "source": []
  },
  {
   "cell_type": "markdown",
   "metadata": {},
   "source": [
    "As a quick visual check (not that this is *not* a formal test of correctness), experiment with a simple random signal by changing the compression ratio and plotting both the signal and the compressed version:"
   ]
  },
  {
   "cell_type": "code",
   "execution_count": null,
   "metadata": {
    "collapsed": true
   },
   "outputs": [],
   "source": [
    "x = np.random.rand(128)"
   ]
  },
  {
   "cell_type": "code",
   "execution_count": null,
   "metadata": {},
   "outputs": [],
   "source": [
    "fraction = 0.6  # play changing this in the 0-1 range\n",
    "\n",
    "xa = compress_signal(x, fraction)\n",
    "\n",
    "plt.figure(figsize=(12,3))\n",
    "plt.plot(x, alpha=0.5, lw=2, label='original')\n",
    "plt.plot(xa, lw=2, label='compressed {0:.0%}'.format(fraction))\n",
    "plt.legend();"
   ]
  },
  {
   "cell_type": "markdown",
   "metadata": {},
   "source": [
    "**Problem 3**: Write a function that will compress an audio file by a dropping a fraction of its spectrum, writing the output to a new file.\n",
    "\n",
    "If the input file is named `a.wav` and the compression fraction is 0.9, the output file should be named `a_comp_0.9.wav`.\n",
    "\n",
    "*Hints:* \n",
    "\n",
    "- look at the `scipy.io` module for routines dealing with files in `wav` format.\n",
    "\n",
    "- you may need to use the `astype` method of numpy arrays to get the correct data type for `wav` files."
   ]
  },
  {
   "cell_type": "code",
   "execution_count": null,
   "metadata": {
    "collapsed": true
   },
   "outputs": [],
   "source": [
    "from scipy.io import wavfile\n",
    "\n",
    "def compress_wav(fname, fraction):\n",
    "    \"\"\"Compress an audio signal stored in an input wav file.\n",
    "    \n",
    "    The compressed signal is returned as a numpy array and automatically written \n",
    "    to disk to a new wav file.\n",
    "    \n",
    "    Parameters\n",
    "    ==========\n",
    "    fname : string\n",
    "      Name of the input wav file\n",
    "      \n",
    "    fraction : float\n",
    "      Fraction of input data to keep.\n",
    "      \n",
    "    Returns\n",
    "    =======\n",
    "    rate : int\n",
    "      Bit rate of the input signal.\n",
    "\n",
    "    x : array\n",
    "      Raw data of the original input signal.\n",
    "      \n",
    "    x_approx : array\n",
    "      Raw data of the compressed signal.\n",
    "      \n",
    "    new_fname : string\n",
    "      Auto-generated filename of the compressed signal.\n",
    "    \"\"\"\n",
    "    \n",
    "    #First I read the wavfile to an array\n",
    "    rate , x = wavfile.read(fname)\n",
    "    \n",
    "    #Then I compress the array\n",
    "    x_approx = compress_signal(x, fraction)\n",
    "    \n",
    "    #Next I generate the new file name\n",
    "    new_fname = fname[:-4]+'_comp_'+str(fraction)+'.wav'\n",
    "    \n",
    "    #Finally I write the new wavfile\n",
    "    wavfile.write(new_fname, rate, x_approx.astype(x.dtype))\n",
    "    \n",
    "    return rate, x, x_approx, new_fname"
   ]
  },
  {
   "cell_type": "code",
   "execution_count": null,
   "metadata": {},
   "outputs": [],
   "source": [
    "#Just checking to make sure it works\n",
    "\n",
    "r, x, xa, nf = compress_wav('data/voice.wav',0.5)\n",
    "\n",
    "plt.figure(figsize=(12,3))\n",
    "plt.plot(x, alpha=0.5, lw=2, label='original')\n",
    "plt.plot(xa, lw=2, label='compressed {0:.0%}'.format(fraction))\n",
    "plt.legend();\n",
    "Audio('data/voice_comp_0.5.wav')"
   ]
  },
  {
   "cell_type": "markdown",
   "metadata": {},
   "source": [
    "**Problem 4**: Study the effect of compressing the input file at different ratios: 0.1, 0.5, 0.75, 0.9, 0.95, 0.99.\n",
    "\n",
    "Using the `OrderedDict` class from the [Python collections module](http://docs.python.org/2/library/collections.html#collections.OrderedDict), store the uncompressed signal as well as the compressed array and filename for each compression ratio.\n",
    "\n",
    "You will create an `OrderedDict` called `voices`, with:\n",
    "\n",
    "- keys: compression ratios\n",
    "- values: pairs of (x, filename) where x is the compressed audio and filename is the name of the compressed file."
   ]
  },
  {
   "cell_type": "code",
   "execution_count": null,
   "metadata": {},
   "outputs": [],
   "source": [
    "from collections import OrderedDict\n",
    "#First I create my ordered dict\n",
    "voices = OrderedDict()\n",
    "\n",
    "#Then I store the compression ratios\n",
    "ratios = [0.1,0.5,0.75,0.9,0.95,0.99]\n",
    "\n",
    "#Finally I fill my ordered dict and create my wav files\n",
    "for i in range(len(ratios)):\n",
    "    x, fname = compress_wav('data/voice.wav', ratios[i])[2:]\n",
    "    voices.update({ratios[i]: (x, fname)})"
   ]
  },
  {
   "cell_type": "markdown",
   "metadata": {},
   "source": [
    "**Problem 5**: Loop over the `voices` dict, and for each one generate an audio player as well as a spectrogram.  Observe how the spectrogram changes, and listen to each file.  At what ratio do you stop understanding the recording?"
   ]
  },
  {
   "cell_type": "code",
   "execution_count": null,
   "metadata": {},
   "outputs": [],
   "source": [
    "for i in voices.keys(): \n",
    "    specgram_cbar(voices[i][0])\n",
    "    Audio(voices[i][1])\n",
    "    \n",
    "#I can no longer discern any words after a compression ratio of 0.99 - Pretty neat"
   ]
  },
  {
   "cell_type": "markdown",
   "metadata": {},
   "source": [
    "# #3: Armchair Astronomer\n",
    "\n",
    "Often times, people act as good sensors of the physical universe. We can use Google Trends data to help us determine some fundamental parameters of the Solar System.\n",
    "\n",
    "**Problem 1**: Using just the CSV file we created in the pandas lecture (`merged_data.csv`) and some frequency analysis tools in `scipy` to determine:\n",
    "\n",
    "   - the number of days in a year\n",
    "   - the period of the moon's orbit around the Earth\n",
    "   \n",
    "Hint: `from scipy.signal.spectral import lombscargle` (you'll want to normalize your signal so it has a mean of zero.)"
   ]
  },
  {
   "cell_type": "code",
   "execution_count": null,
   "metadata": {},
   "outputs": [],
   "source": [
    "from scipy.signal.spectral import lombscargle\n",
    "import numpy as np\n",
    "import pandas as pd\n",
    "import matplotlib.pyplot as plt\n",
    "%matplotlib inline\n",
    "\n",
    "fred = pd.read_csv('data/merged_data.csv')\n",
    "fred['Time']=fred['Week'].apply(pd.to_datetime)\n",
    "fred['Day'] = fred['Time'].apply(lambda x: (x.year-2011)*365+7*x.week)\n",
    "\n",
    "\n",
    "x = np.linspace(.01, 3, 400)\n",
    "IceCreamFreq = lombscargle(fred['Day'].values.astype(float),fred['ice cream'].values-fred['ice cream'].values.mean(),ang_freq)\n",
    "print('The ice cream search data suggests that there are ' + str(2 * np.pi / ang_freq[np.argmax(IceCreamFreq)]) + 'days per year')\n",
    "\n",
    "IceCreamFreq = lombscargle(fred['Day'].values.astype(float),fred['full moon'].values-fred['full moon'].values.mean(),ang_freq)\n",
    "print('The full moon search data suggests that there are ' + str(2 * np.pi / ang_freq[np.argmax(IceCreamFreq)]) + 'days per lunar month')"
   ]
  },
  {
   "cell_type": "markdown",
   "metadata": {},
   "source": [
    "# #4: Reproducing some insights about the Election\n",
    "\n",
    "Nate (\"not a genius, just a Bayesian\") Silver writes often about polls and their utility of predicting elections. One of the things he emphasized during the 2016 campaign is that even \"large\" polls of people with a consistent lead for one candidate will show wild swings in any given window in time.\n",
    "\n",
    "**Problem 1**: Using Pandas and `numpy`, try to reproduce this plot from a Nate Silver Tweet qualitatively using the same assumptions.\n",
    "\n",
    "<img src=\"https://www.evernote.com/l/AUU-KkH3Z-lBdKokzCzVIUe53YZLQ9e_AuMB/image.png\">\n",
    "\n",
    "https://twitter.com/NateSilver538/status/769565612955824128"
   ]
  },
  {
   "cell_type": "code",
   "execution_count": 2,
   "metadata": {},
   "outputs": [
    {
     "name": "stderr",
     "output_type": "stream",
     "text": [
      "/Users/MattGilbert/anaconda3/lib/python3.6/site-packages/ipykernel_launcher.py:26: SettingWithCopyWarning: \n",
      "A value is trying to be set on a copy of a slice from a DataFrame\n",
      "\n",
      "See the caveats in the documentation: http://pandas.pydata.org/pandas-docs/stable/indexing.html#indexing-view-versus-copy\n"
     ]
    },
    {
     "data": {
      "image/png": "[encoded data removed]",
      "text/plain": [
       "<matplotlib.figure.Figure at 0x11382e048>"
      ]
     },
     "metadata": {},
     "output_type": "display_data"
    }
   ],
   "source": [
    "#Note I did this problem once before (I dropped the class in week 2 several semesters ago)\n",
    "#And I may have recycled some code\n",
    "\n",
    "import numpy as np\n",
    "import pandas as pd\n",
    "import matplotlib.pyplot as plt\n",
    "%matplotlib inline\n",
    "\n",
    "#First I declare the number of days, the probability any voter picks trump, and the population of the survery\n",
    "N_days = 150\n",
    "prob_Trump = 0.47\n",
    "population = 200\n",
    "\n",
    "#Then I specify Nate Silver's date range\n",
    "survey_dates = pd.date_range('20160909',periods=N_days)\n",
    "\n",
    "#I assume a binomial distribution(P-Hillary = 0.53) and conduct the survey\n",
    "Poll = pd.DataFrame(np.random.binomial(population, prob_Trump, (N_days,2)),index=survey_dates,columns=('Trump','Clinton'))\n",
    "Poll.Clinton = population-Poll.Trump\n",
    "Poll['Lead'] = (Poll.Clinton - Poll.Trump)/population\n",
    "\n",
    "\n",
    "#And I calculate the 5 day  average\n",
    "Poll['Average_Lead'] = Poll.Lead.copy()\n",
    "for i in range(N_days):\n",
    "    Poll.Average_Lead[i] = Poll.Lead[i-4:i+1].sum() / 5\n",
    "\n",
    "\n",
    "#Finally, I plot\n",
    "\n",
    "plt.figure(figsize=(6,4))\n",
    "plt.plot(Poll['Average_Lead'], 'purple')\n",
    "plt.show()"
   ]
  },
  {
   "cell_type": "markdown",
   "metadata": {},
   "source": [
    "**Problem 2**: Clearly, even with a 6% point lead, there's a chance that this sort of poll would show the other person in the lead. How much would ahead (in percent) would a candidate need to be to have a tracking poll never show the other candidate to be ahead over the course of a year (in your simulation)?"
   ]
  },
  {
   "cell_type": "code",
   "execution_count": 3,
   "metadata": {
    "collapsed": true
   },
   "outputs": [],
   "source": [
    "#First I define a function to return the number of times the candidate is behind in the polls\n",
    "def TimesBehind(days, p, people, average):\n",
    "\n",
    "    #I specify the date which starts the period\n",
    "    survey_dates = pd.date_range('20160909',periods=days)\n",
    "\n",
    "    # I conduct the surveys assuming a binomial distribution\n",
    "    Poll = pd.DataFrame(np.random.binomial(people,p, (days,2)),index=survey_dates,columns=('Trump','Clinton'))\n",
    "    Poll.Clinton = people-Poll.Trump\n",
    "    Poll['Lead'] = (Poll.Clinton - Poll.Trump)/people\n",
    "\n",
    "\n",
    "    #And I calculate the 5 day  average\n",
    "    Poll['AvgLead'] = Poll.Lead.copy()\n",
    "    for i in range(days):\n",
    "        Poll.AvgLead[i] = Poll.Lead[i-average+1:i+1].sum() /5 \n",
    "    times = sum(1 for x in Poll.AvgLead if x < 0)\n",
    "    return times\n"
   ]
  },
  {
   "cell_type": "code",
   "execution_count": 4,
   "metadata": {},
   "outputs": [
    {
     "name": "stderr",
     "output_type": "stream",
     "text": [
      "/Users/MattGilbert/anaconda3/lib/python3.6/site-packages/ipykernel_launcher.py:16: SettingWithCopyWarning: \n",
      "A value is trying to be set on a copy of a slice from a DataFrame\n",
      "\n",
      "See the caveats in the documentation: http://pandas.pydata.org/pandas-docs/stable/indexing.html#indexing-view-versus-copy\n",
      "  app.launch_new_instance()\n"
     ]
    },
    {
     "name": "stdout",
     "output_type": "stream",
     "text": [
      "With a 6 percent lead and a 200 person daily 5 day averaged survey, Hillary would have behind 16 times over a year\n",
      "With a 8 percent lead and a 200 person daily 5 day averaged survey, Hillary would have behind 5 times over a year\n",
      "With a 10 percent lead and a 200 person daily 5 day averaged survey, Hillary would have behind 0 times over a year\n",
      "With a 12 percent lead and a 200 person daily 5 day averaged survey, Hillary would have behind 0 times over a year\n"
     ]
    }
   ],
   "source": [
    "print('With a 6 percent lead and a 200 person daily 5 day averaged survey, a candidate would be behind ' +str(TimesBehind(365,0.47,200,5)) +' times over a year based on my simulation')\n",
    "\n",
    "print('With a 8 percent lead and a 200 person daily 5 day averaged survey, a candidate would be behind ' +str(TimesBehind(365,0.46,200,5)) +' times over a year based on my simulation')\n",
    "\n",
    "print('With a 10 percent lead and a 200 person daily 5 day averaged survey, a candidate would be behind ' +str(TimesBehind(365,0.45,200,5)) +' times over a year based on my simulation')\n",
    "\n",
    "print('With a 12 percent lead and a 200 person daily 5 day averaged survey, a candidate would be behind ' +str(TimesBehind(365,0.44,200,5)) +' times over a year based on my simulation')\n",
    "\n",
    "\n",
    "#By 10-12% the probability of being behind at all is very low"
   ]
  },
  {
   "cell_type": "markdown",
   "metadata": {},
   "source": [
    "**Problem 3**: With a 3 and 6% lead, how many people would need to be polled in 1 day to have the rolling 5-day poll result always show the leader ahead (over a year)?"
   ]
  },
  {
   "cell_type": "code",
   "execution_count": 8,
   "metadata": {},
   "outputs": [
    {
     "name": "stderr",
     "output_type": "stream",
     "text": [
      "/Users/MattGilbert/anaconda3/lib/python3.6/site-packages/ipykernel_launcher.py:16: SettingWithCopyWarning: \n",
      "A value is trying to be set on a copy of a slice from a DataFrame\n",
      "\n",
      "See the caveats in the documentation: http://pandas.pydata.org/pandas-docs/stable/indexing.html#indexing-view-versus-copy\n",
      "  app.launch_new_instance()\n"
     ]
    },
    {
     "name": "stdout",
     "output_type": "stream",
     "text": [
      "With a 3 percent lead and a 200 person daily 5 day averaged survey, the leader would be behind 77 times over a year based on my simulation\n",
      "With a 3 percent lead and a 500 person daily 5 day averaged survey, the leader would be behind 27 times over a year based on my simulation\n",
      "With a 3 percent lead and a 1000 person daily 5 day averaged survey, the leader would be behind 9 times over a year based on my simulation\n",
      "With a 3 percent lead and a 2000 person daily 5 day averaged survey, the leader would be behind 0 times over a year based on my simulation\n"
     ]
    }
   ],
   "source": [
    "print('With a 3 percent lead and a 200 person daily 5 day averaged survey, the leader would be behind ' +str(TimesBehind(365,0.485,200,5)) +' times over a year based on my simulation')\n",
    "\n",
    "print('With a 3 percent lead and a 500 person daily 5 day averaged survey, the leader would be behind ' +str(TimesBehind(365,0.485,500,5)) +' times over a year based on my simulation')\n",
    "\n",
    "print('With a 3 percent lead and a 1000 person daily 5 day averaged survey, the leader would be behind ' +str(TimesBehind(365,0.485,1000,5)) +' times over a year based on my simulation')\n",
    "\n",
    "print('With a 3 percent lead and a 2000 person daily 5 day averaged survey, the leader would be behind ' +str(TimesBehind(365,0.485, 2000,5)) +' times over a year based on my simulation')\n",
    "\n",
    "#It seems that 2000 people is sufficient to determine the leader every time if they have 3% lead "
   ]
  },
  {
   "cell_type": "code",
   "execution_count": 11,
   "metadata": {},
   "outputs": [
    {
     "name": "stderr",
     "output_type": "stream",
     "text": [
      "/Users/MattGilbert/anaconda3/lib/python3.6/site-packages/ipykernel_launcher.py:16: SettingWithCopyWarning: \n",
      "A value is trying to be set on a copy of a slice from a DataFrame\n",
      "\n",
      "See the caveats in the documentation: http://pandas.pydata.org/pandas-docs/stable/indexing.html#indexing-view-versus-copy\n",
      "  app.launch_new_instance()\n"
     ]
    },
    {
     "name": "stdout",
     "output_type": "stream",
     "text": [
      "With a 6 percent lead and a 100 person daily 5 day averaged survey, the leader would be behind 31 times over a year based on my simulation\n",
      "With a 6 percent lead and a 200 person daily 5 day averaged survey, the leader would be behind 11 times over a year based on my simulation\n",
      "With a 6 percent lead and a 500 person daily 5 day averaged survey, the leader would be behind 1 times over a year based on my simulation\n",
      "With a 6 percent lead and a 800 person daily 5 day averaged survey, the leader would be behind 0 times over a year based on my simulation\n"
     ]
    }
   ],
   "source": [
    "print('With a 6 percent lead and a 100 person daily 5 day averaged survey, the leader would be behind ' +str(TimesBehind(365,0.47,100,5)) +' times over a year based on my simulation')\n",
    "\n",
    "print('With a 6 percent lead and a 200 person daily 5 day averaged survey, the leader would be behind ' +str(TimesBehind(365,0.47, 200,5)) +' times over a year based on my simulation')\n",
    "\n",
    "print('With a 6 percent lead and a 500 person daily 5 day averaged survey, the leader would be behind ' +str(TimesBehind(365,0.47, 500,5)) +' times over a year based on my simulation')\n",
    "\n",
    "print('With a 6 percent lead and a 800 person daily 5 day averaged survey, the leader would be behind ' +str(TimesBehind(365,0.47, 500,5)) +' times over a year based on my simulation')\n",
    "\n",
    "#It seems with a 6 percent lead that 500-800 people are sufficient to guarantee a lead every time"
   ]
  }
 ],
 "metadata": {
  "kernelspec": {
   "display_name": "Python 3",
   "language": "python",
   "name": "python3"
  },
  "language_info": {
   "codemirror_mode": {
    "name": "ipython",
    "version": 3
   },
   "file_extension": ".py",
   "mimetype": "text/x-python",
   "name": "python",
   "nbconvert_exporter": "python",
   "pygments_lexer": "ipython3",
   "version": "3.6.3"
  }
 },
 "nbformat": 4,
 "nbformat_minor": 1
}
